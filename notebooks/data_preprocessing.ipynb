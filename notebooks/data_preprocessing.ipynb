{
 "cells": [
  {
   "cell_type": "code",
   "execution_count": 176,
   "metadata": {},
   "outputs": [
    {
     "name": "stderr",
     "output_type": "stream",
     "text": [
      "[nltk_data] Downloading package stopwords to\n",
      "[nltk_data]     C:\\Users\\U-5058\\AppData\\Roaming\\nltk_data...\n",
      "[nltk_data]   Package stopwords is already up-to-date!\n",
      "[nltk_data] Downloading package punkt to\n",
      "[nltk_data]     C:\\Users\\U-5058\\AppData\\Roaming\\nltk_data...\n",
      "[nltk_data]   Package punkt is already up-to-date!\n"
     ]
    },
    {
     "data": {
      "text/plain": [
       "True"
      ]
     },
     "execution_count": 176,
     "metadata": {},
     "output_type": "execute_result"
    }
   ],
   "source": [
    "import pandas as pd\n",
    "import re\n",
    "import json\n",
    "import nltk\n",
    "import numpy as np\n",
    "from nltk.corpus import stopwords\n",
    "nltk.download('stopwords')\n",
    "nltk.download('punkt')"
   ]
  },
  {
   "cell_type": "code",
   "execution_count": 177,
   "metadata": {},
   "outputs": [
    {
     "data": {
      "text/plain": [
       "userName        object\n",
       "verified          bool\n",
       "itemName        object\n",
       "description     object\n",
       "image           object\n",
       "brand           object\n",
       "feature         object\n",
       "category        object\n",
       "price           object\n",
       "rating         float64\n",
       "reviewTime      object\n",
       "summary         object\n",
       "reviewText      object\n",
       "vote             int64\n",
       "dtype: object"
      ]
     },
     "execution_count": 177,
     "metadata": {},
     "output_type": "execute_result"
    }
   ],
   "source": [
    "df =pd.read_csv('../data/amazon_reviews.csv')\n",
    "df.dtypes"
   ]
  },
  {
   "cell_type": "markdown",
   "metadata": {},
   "source": [
    "*   Feature 'price' is the only column with signifcent amount of Nan values with 13% of the whole dataset."
   ]
  },
  {
   "cell_type": "code",
   "execution_count": 178,
   "metadata": {},
   "outputs": [
    {
     "data": {
      "text/plain": [
       "userName        0.011068\n",
       "verified        0.000000\n",
       "itemName        0.000181\n",
       "description     0.001451\n",
       "image           0.000000\n",
       "brand           0.701975\n",
       "feature         0.000000\n",
       "category        0.000000\n",
       "price          13.486852\n",
       "rating          0.000000\n",
       "reviewTime      0.000000\n",
       "summary         0.042456\n",
       "reviewText      0.071667\n",
       "vote            0.000000\n",
       "dtype: float64"
      ]
     },
     "execution_count": 178,
     "metadata": {},
     "output_type": "execute_result"
    }
   ],
   "source": [
    "df.isnull().sum()/len(df)*100"
   ]
  },
  {
   "cell_type": "markdown",
   "metadata": {},
   "source": [
    "Raw dataset contain more than 100K unique users and items."
   ]
  },
  {
   "cell_type": "code",
   "execution_count": 179,
   "metadata": {},
   "outputs": [
    {
     "name": "stdout",
     "output_type": "stream",
     "text": [
      "Count of unique users 131183\n",
      "Count of unique items 109009\n"
     ]
    }
   ],
   "source": [
    "print('Count of unique users ' + str(df['userName'].nunique()))\n",
    "print('Count of unique items ' + str(df['itemName'].nunique()))"
   ]
  },
  {
   "cell_type": "markdown",
   "metadata": {},
   "source": [
    "More than 95% are verified"
   ]
  },
  {
   "cell_type": "code",
   "execution_count": 180,
   "metadata": {},
   "outputs": [
    {
     "name": "stdout",
     "output_type": "stream",
     "text": [
      "Percentage of verified users is 95%\n"
     ]
    }
   ],
   "source": [
    "verified_users_percentage = round(len(df[df['verified']==True])/len(df)*100)\n",
    "print(f'Percentage of verified users is {verified_users_percentage}%')"
   ]
  },
  {
   "cell_type": "code",
   "execution_count": 181,
   "metadata": {},
   "outputs": [],
   "source": [
    "# Define a function to convert the price to numeric or NaN\n",
    "def convert_price_to_numeric(price):\n",
    "    try:\n",
    "        #Convert all prices types into string\n",
    "        price=str(price)\n",
    "        # Remove the '$' symbol and convert to float\n",
    "        return float(price.replace('$', ''))\n",
    "    except ValueError:\n",
    "        # If conversion fails, return NaN\n",
    "        return np.nan\n",
    "\n",
    "#Impute feature by mean\n",
    "def impute_by_mean(df,col_name):\n",
    "    # Calculate the mean price excluding NaN values\n",
    "    mean = df[col_name].mean()\n",
    "    # Impute NaN values with the mean price\n",
    "    df[col_name].fillna(mean, inplace=True)\n",
    "    return df\n",
    "\n",
    "#Filtering most frequent of specific category feature\n",
    "def filter_by_high_frequ(data,obj_col_name):\n",
    "    obj_count = pd.DataFrame(data[obj_col_name].value_counts()).reset_index()\n",
    "    mean_per_obj = obj_count[obj_col_name].mean()\n",
    "    #Filter items with more than the mean amount of reviews#\n",
    "    popular_obj = obj_count[obj_count[obj_col_name]>mean_per_obj]\n",
    "    filtered = data[data[obj_col_name].isin(popular_obj['index'])].reset_index(drop=True)\n",
    "    return filtered\n",
    "\n",
    "# Define a function to check for valid prices\n",
    "def is_valid_price(price):\n",
    "    pattern = r'\\$\\d+'  # Regular expression pattern for valid prices\n",
    "    return bool(re.match(pattern, price))\n",
    "\n",
    "# Function to clean text\n",
    "def clean_text(text):\n",
    "    # Tokenize the text\n",
    "    tokens = nltk.word_tokenize(text)\n",
    "    stop_words = set(stopwords.words('english'))\n",
    "    # Remove stop words\n",
    "    cleaned_tokens = [word for word in tokens if (word.lower() not in stop_words and word.isalnum())]\n",
    "    # Join cleaned tokens back into a sentence\n",
    "    cleaned_text = ' '.join(cleaned_tokens)\n",
    "    return cleaned_text"
   ]
  },
  {
   "cell_type": "markdown",
   "metadata": {},
   "source": [
    "At this part I have done the following cleaning process\n",
    "*   Convert and impute price values\n",
    "*   Filtering only verified users in order to make the modeling more accurate\n",
    "*   Filtering low frequent categories for the simplicity of the mission and aiming to improve the model accuracy\n",
    "*   Droping duplicated samples - I have done that by mistake , so i have removed it and run the process again.\n",
    "*   Using nltk for cleaning textual columns that i will be using for content_based model.\n",
    "*   Add user_id and item_id"
   ]
  },
  {
   "cell_type": "markdown",
   "metadata": {},
   "source": [
    "Price cleaning and imputing"
   ]
  },
  {
   "cell_type": "code",
   "execution_count": 182,
   "metadata": {},
   "outputs": [],
   "source": [
    "# Apply the function to the 'price' column\n",
    "df['price'] = df['price'].apply(convert_price_to_numeric)\n",
    "df = impute_by_mean(df,'price')"
   ]
  },
  {
   "cell_type": "markdown",
   "metadata": {},
   "source": [
    "Filtering verified , high freq and nan samples"
   ]
  },
  {
   "cell_type": "code",
   "execution_count": 168,
   "metadata": {},
   "outputs": [
    {
     "name": "stderr",
     "output_type": "stream",
     "text": [
      "C:\\Users\\U-5058\\AppData\\Roaming\\Python\\Python37\\site-packages\\pandas\\core\\frame.py:4913: SettingWithCopyWarning: \n",
      "A value is trying to be set on a copy of a slice from a DataFrame\n",
      "\n",
      "See the caveats in the documentation: https://pandas.pydata.org/pandas-docs/stable/user_guide/indexing.html#returning-a-view-versus-a-copy\n",
      "  errors=errors,\n"
     ]
    }
   ],
   "source": [
    "#Get only verifed useres\n",
    "filtered_df = df[df['verified']==True]\n",
    "#Drop verified column\n",
    "filtered_df.drop(columns=['verified'],inplace=True)\n",
    "\n",
    "#Filter most frqu categories from each featuer#\n",
    "filtered_df = filter_by_high_frequ(filtered_df,'itemName')\n",
    "filtered_df = filter_by_high_frequ(filtered_df,'brand')\n",
    "filtered_df = filter_by_high_frequ(filtered_df,'category')\n",
    "filtered_df = filter_by_high_frequ(filtered_df,'userName')\n",
    "\n",
    "#Droping all samples that contain nan values#\n",
    "#It could be more efficient by fill the nan values with most common one , but for the simplicity i have skipped them #\n",
    "filtered_df = filtered_df.dropna().reset_index(drop=True)"
   ]
  },
  {
   "cell_type": "markdown",
   "metadata": {},
   "source": [
    "Cleaning text"
   ]
  },
  {
   "cell_type": "code",
   "execution_count": 169,
   "metadata": {},
   "outputs": [
    {
     "name": "stdout",
     "output_type": "stream",
     "text": [
      "Cleaning textual column:itemName\n",
      "Cleaning textual column:brand\n",
      "Cleaning textual column:category\n"
     ]
    }
   ],
   "source": [
    "# Replace underscores with spaces in the category column\n",
    "filtered_df['category'] = filtered_df['category'].str.replace('_', ' ')\n",
    "\n",
    "# Clean the specified columns - only those will be used for content based model\n",
    "columns_to_clean = ['itemName', 'brand','category']\n",
    "for column in columns_to_clean:\n",
    "    print(f'Cleaning textual column:{column}')\n",
    "    filtered_df[column] = filtered_df[column].apply(clean_text)"
   ]
  },
  {
   "cell_type": "markdown",
   "metadata": {},
   "source": [
    "Add user_id and item_id"
   ]
  },
  {
   "cell_type": "code",
   "execution_count": null,
   "metadata": {},
   "outputs": [],
   "source": [
    "#Add user_id and item_id to each user and item#\n",
    "filtered_df['user_id'] = filtered_df['userName'].astype('category').cat.codes\n",
    "filtered_df['item_id'] = filtered_df['itemName'].astype('category').cat.codes"
   ]
  },
  {
   "cell_type": "markdown",
   "metadata": {},
   "source": [
    "Keeping on the features that I will focuse on the assigment"
   ]
  },
  {
   "cell_type": "code",
   "execution_count": null,
   "metadata": {},
   "outputs": [],
   "source": [
    "#For now i will focus on the itemName brand and category#\n",
    "columns_to_drop = ['description','feature','reviewTime','image', 'reviewText','summary']\n",
    "filtered_df.drop(columns=columns_to_drop,inplace=True)\n",
    "filtered_df.reset_index(drop=True,inplace=True)"
   ]
  },
  {
   "cell_type": "markdown",
   "metadata": {},
   "source": [
    "Save file of the rating-item-user for applying CF and MF"
   ]
  },
  {
   "cell_type": "code",
   "execution_count": 170,
   "metadata": {},
   "outputs": [],
   "source": [
    "filtered_df.to_csv('../data/preprocessed.csv')\n",
    "#For the usage of collaborative_filter SVD#\n",
    "user_item_rating = filtered_df.loc[:,['user_id','item_id','rating']]\n",
    "user_item_rating.to_csv('../data/user_item_rating.csv')"
   ]
  },
  {
   "cell_type": "markdown",
   "metadata": {},
   "source": [
    "Saving dictionaries of the usernames and items ids"
   ]
  },
  {
   "cell_type": "code",
   "execution_count": 171,
   "metadata": {},
   "outputs": [],
   "source": [
    "#Get all pairs of usernames-ids#\n",
    "usernames_ids = filtered_df.drop_duplicates(subset=['userName','user_id']).loc[:,['userName','user_id']]\n",
    "usernames_ids_dict = dict(zip(usernames_ids['userName'],usernames_ids['user_id']))\n",
    "ids_usernames_dict = dict(zip(usernames_ids['user_id'],usernames_ids['userName']))\n",
    "#Get all pairs of items-ids#\n",
    "items_ids = filtered_df.drop_duplicates(subset=['itemName','item_id']).loc[:,['itemName','item_id']]\n",
    "items_ids_dict = dict(zip(items_ids['itemName'],items_ids['item_id']))\n",
    "ids_items_dict = dict(zip(items_ids['item_id'],items_ids['itemName']))\n",
    "\n",
    "# Save dictionary as a JSON file\n",
    "with open('../outputs/IDs/usernames_ids_dict.json', 'w') as file:\n",
    "    json.dump(usernames_ids_dict, file)\n",
    "with open('../outputs/IDs/ids_usernames_dict.json', 'w') as file:\n",
    "    json.dump(ids_usernames_dict, file)\n",
    "with open('../outputs/IDs/items_ids_dict.json', 'w') as file:\n",
    "    json.dump(items_ids_dict, file)\n",
    "with open('../outputs/IDs/ids_items_dict.json', 'w') as file:\n",
    "    json.dump(ids_items_dict, file)\n",
    "\n",
    "items_ids.to_json('../outputs/IDs/items_ids.json')    "
   ]
  }
 ],
 "metadata": {
  "kernelspec": {
   "display_name": "Python 3",
   "language": "python",
   "name": "python3"
  },
  "language_info": {
   "codemirror_mode": {
    "name": "ipython",
    "version": 3
   },
   "file_extension": ".py",
   "mimetype": "text/x-python",
   "name": "python",
   "nbconvert_exporter": "python",
   "pygments_lexer": "ipython3",
   "version": "3.7.1"
  }
 },
 "nbformat": 4,
 "nbformat_minor": 2
}
