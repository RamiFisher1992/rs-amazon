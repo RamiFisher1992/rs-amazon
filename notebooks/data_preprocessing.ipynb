{
 "cells": [
  {
   "cell_type": "code",
   "execution_count": 3,
   "metadata": {},
   "outputs": [],
   "source": [
    "import pandas as pd\n",
    "import numpy as np"
   ]
  },
  {
   "cell_type": "code",
   "execution_count": 44,
   "metadata": {},
   "outputs": [],
   "source": [
    "df = pd.read_csv('../data/amazon_reviews.csv')"
   ]
  },
  {
   "cell_type": "code",
   "execution_count": 45,
   "metadata": {},
   "outputs": [],
   "source": [
    "def filter_by_high_frequ(data,obj_col_name):\n",
    "    obj_count = pd.DataFrame(data[obj_col_name].value_counts()).reset_index()\n",
    "    mean_per_obj = obj_count[obj_col_name].mean()\n",
    "    #Filter items with more than the mean amount of reviews#\n",
    "    popular_obj = obj_count[obj_count[obj_col_name]>mean_per_obj]\n",
    "    filtered = data[data[obj_col_name].isin(popular_obj['index'])].reset_index(drop=True)\n",
    "    return filtered"
   ]
  },
  {
   "cell_type": "code",
   "execution_count": 46,
   "metadata": {},
   "outputs": [
    {
     "name": "stderr",
     "output_type": "stream",
     "text": [
      "C:\\Users\\U-5058\\AppData\\Roaming\\Python\\Python37\\site-packages\\pandas\\core\\frame.py:4913: SettingWithCopyWarning: \n",
      "A value is trying to be set on a copy of a slice from a DataFrame\n",
      "\n",
      "See the caveats in the documentation: https://pandas.pydata.org/pandas-docs/stable/user_guide/indexing.html#returning-a-view-versus-a-copy\n",
      "  errors=errors,\n"
     ]
    }
   ],
   "source": [
    "#Get only verifed useres\n",
    "filtered_df = df[df['verified']==True]\n",
    "#Drop verified column\n",
    "filtered_df.drop(columns=['verified'],inplace=True)\n",
    "#Filter most frqu categories from each featuer#\n",
    "filtered_df = filter_by_high_frequ(filtered_df,'itemName')\n",
    "filtered_df = filter_by_high_frequ(filtered_df,'brand')\n",
    "filtered_df = filter_by_high_frequ(filtered_df,'category')\n",
    "filtered_df = filter_by_high_frequ(filtered_df,'userName')\n",
    "#Droping all samples that contain nan values#\n",
    "#It could be more efficient by fill the nan values with most common one , but for the simplicity i have skipped them #\n",
    "filtered_df = filtered_df.dropna().reset_index(drop=True)\n",
    "filtered_df = filtered_df.drop_duplicates().reset_index(drop=True)\n",
    "#Add user_id and item_id to each user and item#\n",
    "filtered_df['user_id'] = filtered_df['userName'].astype('category').cat.codes\n",
    "filtered_df['item_id'] = filtered_df['itemName'].astype('category').cat.codes\n",
    "\n",
    "filtered_df.to_csv('../data/preprocessed.csv')"
   ]
  },
  {
   "cell_type": "code",
   "execution_count": 47,
   "metadata": {},
   "outputs": [],
   "source": [
    "#For the usage of collaborative_filter SVD#\n",
    "user_item_rating = filtered_df.loc[:,['user_id','item_id','rating']]\n",
    "user_item_rating.to_csv('../data/user_item_rating.csv')"
   ]
  }
 ],
 "metadata": {
  "kernelspec": {
   "display_name": "Python 3",
   "language": "python",
   "name": "python3"
  },
  "language_info": {
   "codemirror_mode": {
    "name": "ipython",
    "version": 3
   },
   "file_extension": ".py",
   "mimetype": "text/x-python",
   "name": "python",
   "nbconvert_exporter": "python",
   "pygments_lexer": "ipython3",
   "version": "3.7.1"
  }
 },
 "nbformat": 4,
 "nbformat_minor": 2
}
