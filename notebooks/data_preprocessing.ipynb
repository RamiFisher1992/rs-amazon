{
 "cells": [
  {
   "cell_type": "code",
   "execution_count": 1,
   "metadata": {},
   "outputs": [
    {
     "name": "stderr",
     "output_type": "stream",
     "text": [
      "[nltk_data] Downloading package stopwords to\n",
      "[nltk_data]     C:\\Users\\U-5058\\AppData\\Roaming\\nltk_data...\n",
      "[nltk_data]   Package stopwords is already up-to-date!\n",
      "[nltk_data] Downloading package punkt to\n",
      "[nltk_data]     C:\\Users\\U-5058\\AppData\\Roaming\\nltk_data...\n",
      "[nltk_data]   Package punkt is already up-to-date!\n"
     ]
    },
    {
     "data": {
      "text/plain": [
       "True"
      ]
     },
     "execution_count": 1,
     "metadata": {},
     "output_type": "execute_result"
    }
   ],
   "source": [
    "import pandas as pd\n",
    "import re\n",
    "import json\n",
    "import nltk\n",
    "from nltk.corpus import stopwords\n",
    "nltk.download('stopwords')\n",
    "nltk.download('punkt')"
   ]
  },
  {
   "cell_type": "code",
   "execution_count": 2,
   "metadata": {},
   "outputs": [],
   "source": [
    "df =pd.read_csv('../data/amazon_reviews.csv')"
   ]
  },
  {
   "cell_type": "code",
   "execution_count": 3,
   "metadata": {},
   "outputs": [
    {
     "data": {
      "text/plain": [
       "Index(['userName', 'verified', 'itemName', 'description', 'image', 'brand',\n",
       "       'feature', 'category', 'price', 'rating', 'reviewTime', 'summary',\n",
       "       'reviewText', 'vote'],\n",
       "      dtype='object')"
      ]
     },
     "execution_count": 3,
     "metadata": {},
     "output_type": "execute_result"
    }
   ],
   "source": [
    "df.columns"
   ]
  },
  {
   "cell_type": "code",
   "execution_count": 4,
   "metadata": {},
   "outputs": [],
   "source": [
    "def filter_by_high_frequ(data,obj_col_name):\n",
    "    obj_count = pd.DataFrame(data[obj_col_name].value_counts()).reset_index()\n",
    "    mean_per_obj = obj_count[obj_col_name].mean()\n",
    "    #Filter items with more than the mean amount of reviews#\n",
    "    popular_obj = obj_count[obj_count[obj_col_name]>mean_per_obj]\n",
    "    filtered = data[data[obj_col_name].isin(popular_obj['index'])].reset_index(drop=True)\n",
    "    return filtered\n",
    "\n",
    "# Define a function to check for valid prices\n",
    "def is_valid_price(price):\n",
    "    pattern = r'\\$\\d+'  # Regular expression pattern for valid prices\n",
    "    return bool(re.match(pattern, price))\n",
    "\n",
    "# Function to clean text\n",
    "def clean_text(text):\n",
    "    # Tokenize the text\n",
    "    tokens = nltk.word_tokenize(text)\n",
    "    stop_words = set(stopwords.words('english'))\n",
    "    # Remove stop words\n",
    "    cleaned_tokens = [word for word in tokens if (word.lower() not in stop_words and word.isalnum())]\n",
    "    # Join cleaned tokens back into a sentence\n",
    "    cleaned_text = ' '.join(cleaned_tokens)\n",
    "    return cleaned_text\n"
   ]
  },
  {
   "cell_type": "markdown",
   "metadata": {},
   "source": [
    "At this part I have done the following cleaning process\n",
    "*   Filtering only verified users in order to make the modeling more accurate\n",
    "*   Filtering low frequent categories for the simplicity of the mission and aiming to improve the model accuracy\n",
    "*   Filtering only valid prices items.\n",
    "*   Droping duplicated samples.\n",
    "*   Using nltk for cleaning textual columns that i will be using for content_based model.\n",
    "*   Add user_id and item_id"
   ]
  },
  {
   "cell_type": "code",
   "execution_count": 5,
   "metadata": {},
   "outputs": [
    {
     "name": "stderr",
     "output_type": "stream",
     "text": [
      "C:\\Users\\U-5058\\AppData\\Roaming\\Python\\Python37\\site-packages\\pandas\\core\\frame.py:4913: SettingWithCopyWarning: \n",
      "A value is trying to be set on a copy of a slice from a DataFrame\n",
      "\n",
      "See the caveats in the documentation: https://pandas.pydata.org/pandas-docs/stable/user_guide/indexing.html#returning-a-view-versus-a-copy\n",
      "  errors=errors,\n"
     ]
    }
   ],
   "source": [
    "#Get only verifed useres\n",
    "filtered_df = df[df['verified']==True]\n",
    "#Drop verified column\n",
    "filtered_df.drop(columns=['verified'],inplace=True)\n",
    "\n",
    "#Filter most frqu categories from each featuer#\n",
    "filtered_df = filter_by_high_frequ(filtered_df,'itemName')\n",
    "filtered_df = filter_by_high_frequ(filtered_df,'brand')\n",
    "filtered_df = filter_by_high_frequ(filtered_df,'category')\n",
    "filtered_df = filter_by_high_frequ(filtered_df,'userName')\n",
    "\n",
    "#Droping all samples that contain nan values#\n",
    "#It could be more efficient by fill the nan values with most common one , but for the simplicity i have skipped them #\n",
    "filtered_df = filtered_df.dropna().reset_index(drop=True)\n",
    "\n",
    "#Filter sample where the price is not in the correct format\n",
    "filtered_df = filtered_df[filtered_df['price'].apply(is_valid_price)]\n",
    "\n",
    "#Droping duplicated samples\n",
    "filtered_df = filtered_df.drop_duplicates().reset_index(drop=True)\n"
   ]
  },
  {
   "cell_type": "code",
   "execution_count": 6,
   "metadata": {},
   "outputs": [
    {
     "name": "stdout",
     "output_type": "stream",
     "text": [
      "Cleaning textual column:itemName\n",
      "Cleaning textual column:brand\n",
      "Cleaning textual column:category\n"
     ]
    }
   ],
   "source": [
    "# Replace underscores with spaces in the category column\n",
    "filtered_df['category'] = filtered_df['category'].str.replace('_', ' ')\n",
    "\n",
    "# Clean the specified columns - only those will be used for content based model\n",
    "columns_to_clean = ['itemName', 'brand','category']\n",
    "for column in columns_to_clean:\n",
    "    print(f'Cleaning textual column:{column}')\n",
    "    filtered_df[column] = filtered_df[column].apply(clean_text)\n",
    "    \n",
    "#Add user_id and item_id to each user and item#\n",
    "filtered_df['user_id'] = filtered_df['userName'].astype('category').cat.codes\n",
    "filtered_df['item_id'] = filtered_df['itemName'].astype('category').cat.codes\n",
    "\n",
    "\n",
    "#Drop reviews and images columns, cause i will focuse on items textual properties#\n",
    "#In addition I have dropped description and featue for simplicity , even though they can add information about the item#\n",
    "#For now i will focus on the itemName brand and category#\n",
    "columns_to_drop = ['description','feature','reviewTime','image', 'reviewText','summary']\n",
    "filtered_df.drop(columns=columns_to_drop,inplace=True)\n",
    "filtered_df.reset_index(drop=True,inplace=True)\n",
    "\n",
    "filtered_df.to_csv('../data/preprocessed.csv')"
   ]
  },
  {
   "cell_type": "markdown",
   "metadata": {},
   "source": [
    "Save file of the rating-item-user for applying CF and MF"
   ]
  },
  {
   "cell_type": "code",
   "execution_count": 7,
   "metadata": {},
   "outputs": [],
   "source": [
    "#For the usage of collaborative_filter SVD#\n",
    "user_item_rating = filtered_df.loc[:,['user_id','item_id','rating']]\n",
    "user_item_rating.to_csv('../data/user_item_rating.csv')"
   ]
  },
  {
   "cell_type": "markdown",
   "metadata": {},
   "source": [
    "Saving dictionaries of the usernames and items ids"
   ]
  },
  {
   "cell_type": "code",
   "execution_count": 8,
   "metadata": {},
   "outputs": [],
   "source": [
    "#Get all pairs of usernames-ids#\n",
    "usernames_ids = filtered_df.drop_duplicates(subset=['userName','user_id']).loc[:,['userName','user_id']]\n",
    "usernames_ids_dict = dict(zip(usernames_ids['userName'],usernames_ids['user_id']))\n",
    "ids_usernames_dict = dict(zip(usernames_ids['user_id'],usernames_ids['userName']))\n",
    "#Get all pairs of items-ids#\n",
    "items_ids = filtered_df.drop_duplicates(subset=['itemName','item_id']).loc[:,['itemName','item_id']]\n",
    "items_ids_dict = dict(zip(items_ids['itemName'],items_ids['item_id']))\n",
    "ids_items_dict = dict(zip(items_ids['item_id'],items_ids['itemName']))\n",
    "\n",
    "# Save dictionary as a JSON file\n",
    "with open('../outputs/IDs/usernames_ids_dict.json', 'w') as file:\n",
    "    json.dump(usernames_ids_dict, file)\n",
    "with open('../outputs/IDs/ids_usernames_dict.json', 'w') as file:\n",
    "    json.dump(ids_usernames_dict, file)\n",
    "with open('../outputs/IDs/items_ids_dict.json', 'w') as file:\n",
    "    json.dump(items_ids_dict, file)\n",
    "with open('../outputs/IDs/ids_items_dict.json', 'w') as file:\n",
    "    json.dump(ids_items_dict, file)\n",
    "\n",
    "items_ids.to_json('../outputs/IDs/items_ids.json')    "
   ]
  },
  {
   "cell_type": "code",
   "execution_count": null,
   "metadata": {},
   "outputs": [],
   "source": []
  }
 ],
 "metadata": {
  "kernelspec": {
   "display_name": "Python 3",
   "language": "python",
   "name": "python3"
  },
  "language_info": {
   "codemirror_mode": {
    "name": "ipython",
    "version": 3
   },
   "file_extension": ".py",
   "mimetype": "text/x-python",
   "name": "python",
   "nbconvert_exporter": "python",
   "pygments_lexer": "ipython3",
   "version": "3.7.1"
  }
 },
 "nbformat": 4,
 "nbformat_minor": 2
}
