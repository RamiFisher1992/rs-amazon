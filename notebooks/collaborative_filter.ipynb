{
 "cells": [
  {
   "cell_type": "code",
   "execution_count": 74,
   "metadata": {},
   "outputs": [],
   "source": [
    "from surprise import KNNBasic,NormalPredictor\n",
    "from surprise import Dataset,Reader\n",
    "from surprise.model_selection import cross_validate,train_test_split\n",
    "from surprise import accuracy\n",
    "from evaluation_metrics import precision_recall_at_k\n",
    "import pandas as pd\n",
    "import pickle\n",
    "import joblib"
   ]
  },
  {
   "cell_type": "markdown",
   "metadata": {},
   "source": [
    "Collaborative Filtering \n",
    "*   Loading the user_item_rating dataset that I have created in the last stage.\n",
    "*   Using Random predictor as a baseline algorithem for recommendation of items to user.\n",
    "*   Applying two approches of colaborative filtering - USER_BASE and ITEM_BASE \n",
    "*   Similarity between users and items will be calculated by cosin-sim.\n",
    "*   The results of the algorithem will be validated by using RMSE score.\n"
   ]
  },
  {
   "cell_type": "code",
   "execution_count": 11,
   "metadata": {},
   "outputs": [],
   "source": [
    "user_item_rating = pd.read_csv('../data/user_item_rating.csv')"
   ]
  },
  {
   "cell_type": "markdown",
   "metadata": {},
   "source": [
    "Using KNN basic (user and item based) and normal algorithem(random).\n",
    "* Executing cross validation over each algorithm"
   ]
  },
  {
   "cell_type": "code",
   "execution_count": 28,
   "metadata": {},
   "outputs": [
    {
     "name": "stdout",
     "output_type": "stream",
     "text": [
      "user_knn_algo\n",
      "Computing the cosine similarity matrix...\n",
      "Done computing similarity matrix.\n",
      "Computing the cosine similarity matrix...\n",
      "Done computing similarity matrix.\n",
      "Computing the cosine similarity matrix...\n",
      "Done computing similarity matrix.\n",
      "Evaluating RMSE of algorithm KNNBasic on 3 split(s).\n",
      "\n",
      "                  Fold 1  Fold 2  Fold 3  Mean    Std     \n",
      "RMSE (testset)    1.2262  1.2271  1.2317  1.2283  0.0024  \n",
      "Fit time          8.31    8.22    8.44    8.32    0.09    \n",
      "Test time         1.34    1.53    1.34    1.40    0.09    \n",
      "item_knn_algo\n",
      "Computing the cosine similarity matrix...\n",
      "Done computing similarity matrix.\n",
      "Computing the cosine similarity matrix...\n",
      "Done computing similarity matrix.\n",
      "Computing the cosine similarity matrix...\n",
      "Done computing similarity matrix.\n",
      "Evaluating RMSE of algorithm KNNBasic on 3 split(s).\n",
      "\n",
      "                  Fold 1  Fold 2  Fold 3  Mean    Std     \n",
      "RMSE (testset)    1.1527  1.1522  1.1521  1.1523  0.0003  \n",
      "Fit time          13.25   12.71   13.13   13.03   0.23    \n",
      "Test time         12.20   12.14   11.99   12.11   0.09    \n",
      "random_algo\n",
      "Evaluating RMSE of algorithm NormalPredictor on 3 split(s).\n",
      "\n",
      "                  Fold 1  Fold 2  Fold 3  Mean    Std     \n",
      "RMSE (testset)    1.4070  1.4165  1.4143  1.4126  0.0041  \n",
      "Fit time          0.08    0.09    0.09    0.08    0.01    \n",
      "Test time         0.18    0.29    0.18    0.22    0.05    \n"
     ]
    }
   ],
   "source": [
    "reader = Reader(rating_scale=(1, 5))\n",
    "data = Dataset.load_from_df(user_item_rating[['user_id', 'item_id', 'rating']], reader)\n",
    "# User-based KNN\n",
    "user_knn_algo = KNNBasic(sim_options = {'name': 'cosine', 'user_based': True})\n",
    "# Item-based KNN\n",
    "item_knn_algo = KNNBasic(sim_options = {'name': 'cosine', 'user_based': False})\n",
    "#Random predictor\n",
    "random_algo = NormalPredictor()\n",
    "\n",
    "algos= [('user_knn_algo',user_knn_algo),('item_knn_algo',item_knn_algo),('random_algo',random_algo)]\n",
    "for algo in algos :\n",
    "    print(algo[0])\n",
    "    cross_validate(algo[1], data, measures=['RMSE'], cv=3, verbose=True)"
   ]
  },
  {
   "cell_type": "markdown",
   "metadata": {},
   "source": [
    "According to the cross-validation resluts above:\n",
    "* Random algorotim rmse is 1.41 on average - used as a baseline.\n",
    "* Both CF algo perform better than random algorithem with USER:1.22 and ITEM :1.15\n",
    "* Even though the results of the knn are better than random it is hard to validate by those scores the real accuracy of the algorithems."
   ]
  },
  {
   "cell_type": "code",
   "execution_count": 29,
   "metadata": {},
   "outputs": [
    {
     "name": "stdout",
     "output_type": "stream",
     "text": [
      "Computing the cosine similarity matrix...\n",
      "Done computing similarity matrix.\n",
      "Computing the cosine similarity matrix...\n",
      "Done computing similarity matrix.\n",
      "RMSE: 1.2126\n",
      "RMSE: 1.2142\n",
      "RMSE: 1.4093\n"
     ]
    },
    {
     "data": {
      "text/plain": [
       "1.4093492071932534"
      ]
     },
     "execution_count": 29,
     "metadata": {},
     "output_type": "execute_result"
    }
   ],
   "source": [
    "trainset, testset = train_test_split(data, test_size=0.25,shuffle=False)\n",
    "#Train the model on the entire dataset\n",
    "user_knn_algo.fit(trainset)\n",
    "item_knn_algo.fit(trainset)\n",
    "random_algo.fit(trainset)\n",
    "\n",
    "#Evaluate on the same dataset\n",
    "user_knn_predictions = user_knn_algo.test(testset)\n",
    "item_knn_predictions = item_knn_algo.test(testset)\n",
    "random_knn_predictions = random_algo.test(testset)\n",
    "\n",
    "# Calculate and print RMSE\n",
    "accuracy.rmse(user_knn_predictions)\n",
    "# Calculate and print RMSE\n",
    "accuracy.rmse(item_knn_predictions)\n",
    "# Calculate and print RMSE\n",
    "accuracy.rmse(random_knn_predictions)"
   ]
  },
  {
   "cell_type": "markdown",
   "metadata": {},
   "source": [
    "In order to evaluate better the performce of the system we have to use more informative metric than rmse.\n",
    "*   Mostly used metrics for recommendation systems are types of hit rate perfomances.\n",
    "*   Two of them are Preision@K and Recall@K\n",
    "*   Preision@K  - Proportion of recommended items that are relevant.(for given rating and K threshold )\n",
    "*   Recall@K  - Proportion of relevant items that are recommended.(for given rating and K threshold )"
   ]
  },
  {
   "cell_type": "code",
   "execution_count": 31,
   "metadata": {},
   "outputs": [
    {
     "name": "stdout",
     "output_type": "stream",
     "text": [
      "Preision@K for algo user_knn_algo is  0.8018351031216056\n",
      "Recall@K for algo user_knn_algo is  0.8018351031216056\n",
      "Preision@K for algo item_knn_algo is  0.7728669011142516\n",
      "Recall@K for algo item_knn_algo is  0.7728669011142516\n",
      "Preision@K for algo random_algo is  0.6997323494017224\n",
      "Recall@K for algo random_algo is  0.6997323494017224\n"
     ]
    }
   ],
   "source": [
    "for algo in algos:\n",
    "    predictions = algo[1].test(testset)\n",
    "    precisions, recalls = precision_recall_at_k(predictions, k=10, threshold=4)\n",
    "\n",
    "    precision_at_k = sum(prec for prec in precisions.values()) / len(precisions)\n",
    "    recall_at_k = sum(rec for rec in recalls.values()) / len(recalls)\n",
    "    # Precision and recall can then be averaged over all users\n",
    "    print(f'Preision@K for algo {algo[0]} is  {precision_at_k}')\n",
    "    print(f'Recall@K for algo {algo[0]} is  {precision_at_k}')"
   ]
  },
  {
   "cell_type": "markdown",
   "metadata": {},
   "source": [
    "Accoding to the results (K=10 , threshold=4):\n",
    "*  Both knn are better than random.\n",
    "*  On contraty to RMSE metric , user_knn perform better when considering recall@k and precision@K"
   ]
  },
  {
   "cell_type": "markdown",
   "metadata": {},
   "source": [
    "Fit each algorithem on the full dataset for application usage."
   ]
  },
  {
   "cell_type": "code",
   "execution_count": 32,
   "metadata": {},
   "outputs": [
    {
     "name": "stdout",
     "output_type": "stream",
     "text": [
      "Computing the cosine similarity matrix...\n",
      "Done computing similarity matrix.\n",
      "Computing the cosine similarity matrix...\n",
      "Done computing similarity matrix.\n"
     ]
    },
    {
     "data": {
      "text/plain": [
       "<surprise.prediction_algorithms.random_pred.NormalPredictor at 0x1d57f3d2080>"
      ]
     },
     "execution_count": 32,
     "metadata": {},
     "output_type": "execute_result"
    }
   ],
   "source": [
    "# First train an SVD algorithm on the movielens dataset.\n",
    "full_trainset = data.build_full_trainset()\n",
    "user_knn_algo.fit(trainset)\n",
    "item_knn_algo.fit(trainset)\n",
    "random_algo.fit(trainset)"
   ]
  },
  {
   "cell_type": "markdown",
   "metadata": {},
   "source": [
    "Test if item_knn algorithem find similar to a given item.\n",
    "*   I have chosen the most frqu item in the dataset which is 'Puppia Dog Harnesses'\n",
    "*   According to the top 5 item we can see that 3 out of 5 are realted to dogs."
   ]
  },
  {
   "cell_type": "code",
   "execution_count": 52,
   "metadata": {},
   "outputs": [],
   "source": [
    "import json\n",
    "with open('../outputs/IDs/items_ids_dict.json', 'r') as file:\n",
    "    items_ids_dict = json.load(file)\n",
    "with open('../outputs/IDs/ids_items_dict.json', 'r') as file:\n",
    "    ids_items_dict = json.load(file)"
   ]
  },
  {
   "cell_type": "code",
   "execution_count": 70,
   "metadata": {},
   "outputs": [
    {
     "name": "stdout",
     "output_type": "stream",
     "text": [
      "The 5 nearest neighbors of Items are:\n",
      "KONG Sitting Frog Dog Toy Medium Green\n",
      "2LB Cafe Pablo Subtle Earth Organic Gourmet Coffee Dark Roast Whole Bean Coffee USDA Certified Organic Arabica Coffee 2 lb Bag\n",
      "PetSafe Pet Screen Door Dog Cat Door Screen Door Window Porch Use\n",
      "Tropicana Orange Juice 10 Ounce Pack 24\n",
      "Best Bully Sticks 100 Natural Cow Ear Dog Treats 15 Pack\n"
     ]
    }
   ],
   "source": [
    "# Retrieve raw_id\n",
    "item_raw_id = items_ids_dict[\"Puppia Dog Harnesses\"]\n",
    "item_inner_id = item_knn_algo.trainset.to_inner_iid(item_raw_id)\n",
    "item_neighbors = item_knn_algo.get_neighbors(item_inner_id, k=5)\n",
    "# Convert inner ids of the neighbors into names.\n",
    "item_neighbors = (\n",
    "    item_knn_algo.trainset.to_raw_iid(inner_id) for inner_id in item_neighbors\n",
    ")\n",
    "item_neighbors = (ids_items_dict[str(rid)] for rid in item_neighbors)\n",
    "print(\"The 5 nearest neighbors of Items are:\")\n",
    "for item in item_neighbors:\n",
    "    print(item)"
   ]
  },
  {
   "cell_type": "markdown",
   "metadata": {},
   "source": [
    "Save the trainset and the fitted algo \n",
    "*   KNN algo are highly memory consuming , thus I will not be ables to use them in the application as pre-saved\n",
    "*   Saving the random algo for baseline comparsion of the following algos."
   ]
  },
  {
   "cell_type": "code",
   "execution_count": 71,
   "metadata": {},
   "outputs": [],
   "source": [
    "# Save the trained model to a file\n",
    "user_knn_algo_filename = '../outputs/CF/user_knn_algo.sav'\n",
    "# Save the trained KNN model to the file\n",
    "joblib.dump(user_knn_algo, user_knn_algo_filename, compress=('zlib', 9))  # Use zlib compression with level 9 (maximum compression)\n",
    "\n",
    "item_knn_algo_filename = '../outputs/CF/item_knn_algo.sav'\n",
    "# Save the trained KNN model to the file\n",
    "joblib.dump(item_knn_algo, item_knn_algo_filename, compress=('zlib', 9))  # Use zlib compression with level 9 (maximum compression)\n",
    "\n",
    "with open('../outputs/Random/random_algo.sav', 'wb') as file:\n",
    "    pickle.dump(random_algo, file)\n",
    "with open('../outputs/CF/trainset.sav', 'wb') as file:\n",
    "    pickle.dump(full_trainset, file)"
   ]
  }
 ],
 "metadata": {
  "kernelspec": {
   "display_name": "rs-amazon",
   "language": "python",
   "name": "python3"
  },
  "language_info": {
   "codemirror_mode": {
    "name": "ipython",
    "version": 3
   },
   "file_extension": ".py",
   "mimetype": "text/x-python",
   "name": "python",
   "nbconvert_exporter": "python",
   "pygments_lexer": "ipython3",
   "version": "3.7.1"
  }
 },
 "nbformat": 4,
 "nbformat_minor": 2
}
