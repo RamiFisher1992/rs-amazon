{
 "cells": [
  {
   "cell_type": "code",
   "execution_count": 207,
   "metadata": {},
   "outputs": [],
   "source": [
    "from surprise import KNNBasic,NormalPredictor\n",
    "from surprise import Dataset,Reader\n",
    "from surprise.model_selection import cross_validate,train_test_split\n",
    "from surprise import accuracy\n",
    "from evaluation_metrics import precision_recall_at_k\n",
    "import pandas as pd\n",
    "import pickle\n",
    "import joblib\n",
    "import helper_functions as hf\n",
    "import json"
   ]
  },
  {
   "cell_type": "markdown",
   "metadata": {},
   "source": [
    "Collaborative Filtering \n",
    "*   Loading the user_item_rating dataset that I have created in the last stage.\n",
    "*   Using Random predictor as a baseline algorithem for recommendation of items to user.\n",
    "*   Applying two approches of colaborative filtering - USER_BASE and ITEM_BASE \n",
    "*   Similarity between users and items will be calculated by cosin-sim.\n",
    "*   The results of the algorithem will be validated by using RMSE score.\n"
   ]
  },
  {
   "cell_type": "code",
   "execution_count": 30,
   "metadata": {},
   "outputs": [],
   "source": [
    "user_item_rating = pd.read_csv('../data/user_item_rating.csv')"
   ]
  },
  {
   "cell_type": "markdown",
   "metadata": {},
   "source": [
    "Using KNN basic (user and item based) and normal algorithem(random).\n",
    "* Executing cross validation over each algorithm"
   ]
  },
  {
   "cell_type": "code",
   "execution_count": 31,
   "metadata": {},
   "outputs": [
    {
     "name": "stdout",
     "output_type": "stream",
     "text": [
      "user_knn_algo\n",
      "Computing the cosine similarity matrix...\n",
      "Done computing similarity matrix.\n",
      "Computing the cosine similarity matrix...\n",
      "Done computing similarity matrix.\n",
      "Computing the cosine similarity matrix...\n",
      "Done computing similarity matrix.\n",
      "Evaluating RMSE of algorithm KNNBasic on 3 split(s).\n",
      "\n",
      "                  Fold 1  Fold 2  Fold 3  Mean    Std     \n",
      "RMSE (testset)    1.2098  1.1991  1.1918  1.2002  0.0074  \n",
      "Fit time          11.14   10.45   10.45   10.68   0.32    \n",
      "Test time         2.32    2.56    2.77    2.55    0.18    \n",
      "item_knn_algo\n",
      "Computing the cosine similarity matrix...\n",
      "Done computing similarity matrix.\n",
      "Computing the cosine similarity matrix...\n",
      "Done computing similarity matrix.\n",
      "Computing the cosine similarity matrix...\n",
      "Done computing similarity matrix.\n",
      "Evaluating RMSE of algorithm KNNBasic on 3 split(s).\n",
      "\n",
      "                  Fold 1  Fold 2  Fold 3  Mean    Std     \n",
      "RMSE (testset)    1.0915  1.0940  1.0950  1.0935  0.0015  \n",
      "Fit time          24.80   59.14   25.95   36.63   15.92   \n",
      "Test time         64.33   51.74   26.05   47.38   15.93   \n",
      "random_algo\n",
      "Evaluating RMSE of algorithm NormalPredictor on 3 split(s).\n",
      "\n",
      "                  Fold 1  Fold 2  Fold 3  Mean    Std     \n",
      "RMSE (testset)    1.4128  1.4198  1.4252  1.4193  0.0051  \n",
      "Fit time          0.11    0.14    0.14    0.13    0.02    \n",
      "Test time         0.26    0.27    0.38    0.30    0.06    \n"
     ]
    }
   ],
   "source": [
    "reader = Reader(rating_scale=(1, 5))\n",
    "data = Dataset.load_from_df(user_item_rating[['user_id', 'item_id', 'rating']], reader)\n",
    "# User-based KNN\n",
    "user_knn_algo = KNNBasic(sim_options = {'name': 'cosine', 'user_based': True})\n",
    "# Item-based KNN\n",
    "item_knn_algo = KNNBasic(sim_options = {'name': 'cosine', 'user_based': False})\n",
    "#Random predictor\n",
    "random_algo = NormalPredictor()\n",
    "\n",
    "algos= [('user_knn_algo',user_knn_algo),('item_knn_algo',item_knn_algo),('random_algo',random_algo)]\n",
    "for algo in algos :\n",
    "    print(algo[0])\n",
    "    cross_validate(algo[1], data, measures=['RMSE'], cv=3, verbose=True)"
   ]
  },
  {
   "cell_type": "markdown",
   "metadata": {},
   "source": [
    "According to the cross-validation resluts above:\n",
    "* Random algorotim rmse is 1.41 on average - used as a baseline.\n",
    "* Both CF algo perform better than random algorithem with USER:1.19 and ITEM :1.09\n",
    "* Even though the results of the knn are better than random it is hard to validate by those scores the real accuracy of the algorithems."
   ]
  },
  {
   "cell_type": "code",
   "execution_count": 32,
   "metadata": {},
   "outputs": [
    {
     "name": "stdout",
     "output_type": "stream",
     "text": [
      "Computing the cosine similarity matrix...\n",
      "Done computing similarity matrix.\n",
      "Computing the cosine similarity matrix...\n",
      "Done computing similarity matrix.\n",
      "RMSE: 1.1873\n",
      "RMSE: 1.0774\n",
      "RMSE: 1.4109\n"
     ]
    },
    {
     "data": {
      "text/plain": [
       "1.4109355341848548"
      ]
     },
     "execution_count": 32,
     "metadata": {},
     "output_type": "execute_result"
    }
   ],
   "source": [
    "trainset, testset = train_test_split(data, test_size=0.25,shuffle=True)\n",
    "#Train the model on the entire dataset\n",
    "user_knn_algo.fit(trainset)\n",
    "item_knn_algo.fit(trainset)\n",
    "random_algo.fit(trainset)\n",
    "\n",
    "#Evaluate on the same dataset\n",
    "user_knn_predictions = user_knn_algo.test(testset)\n",
    "item_knn_predictions = item_knn_algo.test(testset)\n",
    "random_knn_predictions = random_algo.test(testset)\n",
    "\n",
    "# Calculate and print RMSE\n",
    "accuracy.rmse(user_knn_predictions)\n",
    "# Calculate and print RMSE\n",
    "accuracy.rmse(item_knn_predictions)\n",
    "# Calculate and print RMSE\n",
    "accuracy.rmse(random_knn_predictions)"
   ]
  },
  {
   "cell_type": "markdown",
   "metadata": {},
   "source": [
    "In order to evaluate better the performce of the system we have to use more informative metric than rmse.\n",
    "*   Mostly used metrics for recommendation systems are types of hit rate perfomances.\n",
    "*   Two of them are Preision@K and Recall@K\n",
    "*   Preision@K  - Proportion of recommended items that are relevant.(for given rating and K threshold )\n",
    "*   Recall@K  - Proportion of relevant items that are recommended.(for given rating and K threshold )"
   ]
  },
  {
   "cell_type": "code",
   "execution_count": 41,
   "metadata": {},
   "outputs": [
    {
     "name": "stdout",
     "output_type": "stream",
     "text": [
      "Preision@K for algo user_knn_algo is  0.801067348462194\n",
      "Recall@K for algo user_knn_algo is  0.8050359405758389\n",
      "Preision@K for algo item_knn_algo is  0.7670414397685479\n",
      "Recall@K for algo item_knn_algo is  0.7849318018590545\n",
      "Preision@K for algo random_algo is  0.6756440950850918\n",
      "Recall@K for algo random_algo is  0.5746636796301922\n"
     ]
    }
   ],
   "source": [
    "for algo in algos:\n",
    "    predictions = algo[1].test(testset)\n",
    "    precisions, recalls = precision_recall_at_k(predictions, k=10, threshold=4)\n",
    "\n",
    "    precision_at_k = sum(prec for prec in precisions.values()) / len(precisions)\n",
    "    recall_at_k = sum(rec for rec in recalls.values()) / len(recalls)\n",
    "    # Precision and recall can then be averaged over all users\n",
    "    print(f'Preision@K for algo {algo[0]} is  {precision_at_k}')\n",
    "    print(f'Recall@K for algo {algo[0]} is  {recall_at_k}')"
   ]
  },
  {
   "cell_type": "markdown",
   "metadata": {},
   "source": [
    "Accoding to the results (K=10 , threshold=4):\n",
    "*  Both knn are better than random.\n",
    "*  On contraty to RMSE metric , user_knn perform better when considering recall@k and precision@K"
   ]
  },
  {
   "cell_type": "markdown",
   "metadata": {},
   "source": [
    "Fit each algorithem on the full dataset for application usage."
   ]
  },
  {
   "cell_type": "code",
   "execution_count": 108,
   "metadata": {},
   "outputs": [
    {
     "name": "stdout",
     "output_type": "stream",
     "text": [
      "Computing the cosine similarity matrix...\n",
      "Done computing similarity matrix.\n",
      "Computing the cosine similarity matrix...\n",
      "Done computing similarity matrix.\n"
     ]
    },
    {
     "data": {
      "text/plain": [
       "<surprise.prediction_algorithms.random_pred.NormalPredictor at 0x282bb4e2630>"
      ]
     },
     "execution_count": 108,
     "metadata": {},
     "output_type": "execute_result"
    }
   ],
   "source": [
    "# First train an KNN algorithm on the dataset.\n",
    "full_trainset = data.build_full_trainset()\n",
    "user_knn_algo.fit(full_trainset)\n",
    "item_knn_algo.fit(full_trainset)\n",
    "random_algo.fit(full_trainset)"
   ]
  },
  {
   "cell_type": "markdown",
   "metadata": {},
   "source": [
    "Test if item_knn algorithem find similar to a given item.\n",
    "*   I have chosen the most frqu item in the dataset which is 'Puppia Dog Harnesses'\n",
    "*   According to the top 5 item we can see that 3 out of 5 are realted to dogs."
   ]
  },
  {
   "cell_type": "code",
   "execution_count": 206,
   "metadata": {},
   "outputs": [],
   "source": [
    "with open('../outputs/IDs/usernames_ids_dict.json', 'r') as file:\n",
    "    usernames_ids_dict = json.load(file)"
   ]
  },
  {
   "cell_type": "code",
   "execution_count": 188,
   "metadata": {},
   "outputs": [
    {
     "data": {
      "text/html": [
       "<div>\n",
       "<style scoped>\n",
       "    .dataframe tbody tr th:only-of-type {\n",
       "        vertical-align: middle;\n",
       "    }\n",
       "\n",
       "    .dataframe tbody tr th {\n",
       "        vertical-align: top;\n",
       "    }\n",
       "\n",
       "    .dataframe thead th {\n",
       "        text-align: right;\n",
       "    }\n",
       "</style>\n",
       "<table border=\"1\" class=\"dataframe\">\n",
       "  <thead>\n",
       "    <tr style=\"text-align: right;\">\n",
       "      <th></th>\n",
       "      <th>userName</th>\n",
       "      <th>itemName</th>\n",
       "      <th>brand</th>\n",
       "      <th>category</th>\n",
       "      <th>price</th>\n",
       "      <th>rating</th>\n",
       "      <th>vote</th>\n",
       "      <th>user_id</th>\n",
       "      <th>item_id</th>\n",
       "    </tr>\n",
       "  </thead>\n",
       "  <tbody>\n",
       "    <tr>\n",
       "      <th>128729</th>\n",
       "      <td>Kristie D</td>\n",
       "      <td>quot Guinea Habitat rdquo Guinea Pig Cage amp ...</td>\n",
       "      <td>MidWest Homes Pets</td>\n",
       "      <td>Pet Supplies</td>\n",
       "      <td>55.770000</td>\n",
       "      <td>5.0</td>\n",
       "      <td>0</td>\n",
       "      <td>7642</td>\n",
       "      <td>11046</td>\n",
       "    </tr>\n",
       "    <tr>\n",
       "      <th>138704</th>\n",
       "      <td>Kristie D</td>\n",
       "      <td>Kaytee Clean amp Cozy Colored Small Animal Bed...</td>\n",
       "      <td>Kaytee</td>\n",
       "      <td>Pet Supplies</td>\n",
       "      <td>8.270000</td>\n",
       "      <td>5.0</td>\n",
       "      <td>0</td>\n",
       "      <td>7642</td>\n",
       "      <td>5003</td>\n",
       "    </tr>\n",
       "    <tr>\n",
       "      <th>138810</th>\n",
       "      <td>Kristie D</td>\n",
       "      <td>Oxbow Animal Health Hamster Gerbil Fortified Food</td>\n",
       "      <td>Oxbow</td>\n",
       "      <td>Pet Supplies</td>\n",
       "      <td>20.178349</td>\n",
       "      <td>5.0</td>\n",
       "      <td>0</td>\n",
       "      <td>7642</td>\n",
       "      <td>6831</td>\n",
       "    </tr>\n",
       "  </tbody>\n",
       "</table>\n",
       "</div>"
      ],
      "text/plain": [
       "         userName                                           itemName  \\\n",
       "128729  Kristie D  quot Guinea Habitat rdquo Guinea Pig Cage amp ...   \n",
       "138704  Kristie D  Kaytee Clean amp Cozy Colored Small Animal Bed...   \n",
       "138810  Kristie D  Oxbow Animal Health Hamster Gerbil Fortified Food   \n",
       "\n",
       "                     brand      category      price  rating  vote  user_id  \\\n",
       "128729  MidWest Homes Pets  Pet Supplies  55.770000     5.0     0     7642   \n",
       "138704              Kaytee  Pet Supplies   8.270000     5.0     0     7642   \n",
       "138810               Oxbow  Pet Supplies  20.178349     5.0     0     7642   \n",
       "\n",
       "        item_id  \n",
       "128729    11046  \n",
       "138704     5003  \n",
       "138810     6831  "
      ]
     },
     "execution_count": 188,
     "metadata": {},
     "output_type": "execute_result"
    }
   ],
   "source": [
    "df = pd.read_csv('../data/preprocessed.csv',index_col=[0])\n",
    "K = 5 \n",
    "userName='Kristie D'\n",
    "user_id = usernames_ids_dict[userName]  \n",
    "df[df['userName']==userName]"
   ]
  },
  {
   "cell_type": "markdown",
   "metadata": {},
   "source": [
    "Getting top K items for user by using KNN ITEM based"
   ]
  },
  {
   "cell_type": "code",
   "execution_count": 204,
   "metadata": {},
   "outputs": [
    {
     "data": {
      "text/html": [
       "<div>\n",
       "<style scoped>\n",
       "    .dataframe tbody tr th:only-of-type {\n",
       "        vertical-align: middle;\n",
       "    }\n",
       "\n",
       "    .dataframe tbody tr th {\n",
       "        vertical-align: top;\n",
       "    }\n",
       "\n",
       "    .dataframe thead th {\n",
       "        text-align: right;\n",
       "    }\n",
       "</style>\n",
       "<table border=\"1\" class=\"dataframe\">\n",
       "  <thead>\n",
       "    <tr style=\"text-align: right;\">\n",
       "      <th></th>\n",
       "      <th>itemName</th>\n",
       "      <th>brand</th>\n",
       "      <th>category</th>\n",
       "    </tr>\n",
       "  </thead>\n",
       "  <tbody>\n",
       "    <tr>\n",
       "      <th>0</th>\n",
       "      <td>Prince Peace Organic Tea Oolong 100 Tea Bags</td>\n",
       "      <td>Prince Peace</td>\n",
       "      <td>Grocery Gourmet Food</td>\n",
       "    </tr>\n",
       "    <tr>\n",
       "      <th>1</th>\n",
       "      <td>Pet Champion Adjustable Harness Collar Leash M...</td>\n",
       "      <td>Pet Champion</td>\n",
       "      <td>Pet Supplies</td>\n",
       "    </tr>\n",
       "    <tr>\n",
       "      <th>2</th>\n",
       "      <td>Blue Buffalo Life Protection Formula Natural P...</td>\n",
       "      <td>Blue Buffalo</td>\n",
       "      <td>Pet Supplies</td>\n",
       "    </tr>\n",
       "    <tr>\n",
       "      <th>3</th>\n",
       "      <td>Elk Antlers Dogs Large quot Premium Antler Che...</td>\n",
       "      <td>Heartland Antlers</td>\n",
       "      <td>Pet Supplies</td>\n",
       "    </tr>\n",
       "    <tr>\n",
       "      <th>4</th>\n",
       "      <td>BIC Round Stic Xtra Life Ballpoint Pen Medium ...</td>\n",
       "      <td>BIC</td>\n",
       "      <td>Office Products</td>\n",
       "    </tr>\n",
       "  </tbody>\n",
       "</table>\n",
       "</div>"
      ],
      "text/plain": [
       "                                            itemName              brand  \\\n",
       "0       Prince Peace Organic Tea Oolong 100 Tea Bags       Prince Peace   \n",
       "1  Pet Champion Adjustable Harness Collar Leash M...       Pet Champion   \n",
       "2  Blue Buffalo Life Protection Formula Natural P...       Blue Buffalo   \n",
       "3  Elk Antlers Dogs Large quot Premium Antler Che...  Heartland Antlers   \n",
       "4  BIC Round Stic Xtra Life Ballpoint Pen Medium ...                BIC   \n",
       "\n",
       "               category  \n",
       "0  Grocery Gourmet Food  \n",
       "1          Pet Supplies  \n",
       "2          Pet Supplies  \n",
       "3          Pet Supplies  \n",
       "4       Office Products  "
      ]
     },
     "execution_count": 204,
     "metadata": {},
     "output_type": "execute_result"
    }
   ],
   "source": [
    "predictions = hf.get_top_n(user_id,full_trainset,item_knn_algo,5)\n",
    "hf.convect_predictions_to_items(predictions,df)"
   ]
  },
  {
   "cell_type": "markdown",
   "metadata": {},
   "source": [
    "Getting top K items for user by using KNN USER based"
   ]
  },
  {
   "cell_type": "code",
   "execution_count": 205,
   "metadata": {},
   "outputs": [
    {
     "data": {
      "text/html": [
       "<div>\n",
       "<style scoped>\n",
       "    .dataframe tbody tr th:only-of-type {\n",
       "        vertical-align: middle;\n",
       "    }\n",
       "\n",
       "    .dataframe tbody tr th {\n",
       "        vertical-align: top;\n",
       "    }\n",
       "\n",
       "    .dataframe thead th {\n",
       "        text-align: right;\n",
       "    }\n",
       "</style>\n",
       "<table border=\"1\" class=\"dataframe\">\n",
       "  <thead>\n",
       "    <tr style=\"text-align: right;\">\n",
       "      <th></th>\n",
       "      <th>itemName</th>\n",
       "      <th>brand</th>\n",
       "      <th>category</th>\n",
       "    </tr>\n",
       "  </thead>\n",
       "  <tbody>\n",
       "    <tr>\n",
       "      <th>0</th>\n",
       "      <td>Prince Peace Organic Tea Oolong 100 Tea Bags</td>\n",
       "      <td>Prince Peace</td>\n",
       "      <td>Grocery Gourmet Food</td>\n",
       "    </tr>\n",
       "    <tr>\n",
       "      <th>1</th>\n",
       "      <td>Elk Antlers Dogs Large quot Premium Antler Che...</td>\n",
       "      <td>Heartland Antlers</td>\n",
       "      <td>Pet Supplies</td>\n",
       "    </tr>\n",
       "    <tr>\n",
       "      <th>2</th>\n",
       "      <td>Kaytee Crittertrail Lazy Lookout Accessory Kit</td>\n",
       "      <td>Kaytee</td>\n",
       "      <td>Pet Supplies</td>\n",
       "    </tr>\n",
       "    <tr>\n",
       "      <th>3</th>\n",
       "      <td>PetSafe Nylon Dog Leash Strong Durable Traditi...</td>\n",
       "      <td>PetSafe</td>\n",
       "      <td>Pet Supplies</td>\n",
       "    </tr>\n",
       "    <tr>\n",
       "      <th>4</th>\n",
       "      <td>Smead File Folder Tab Letter Size Assorted Col...</td>\n",
       "      <td>Smead</td>\n",
       "      <td>Office Products</td>\n",
       "    </tr>\n",
       "  </tbody>\n",
       "</table>\n",
       "</div>"
      ],
      "text/plain": [
       "                                            itemName              brand  \\\n",
       "0       Prince Peace Organic Tea Oolong 100 Tea Bags       Prince Peace   \n",
       "1  Elk Antlers Dogs Large quot Premium Antler Che...  Heartland Antlers   \n",
       "2     Kaytee Crittertrail Lazy Lookout Accessory Kit             Kaytee   \n",
       "3  PetSafe Nylon Dog Leash Strong Durable Traditi...            PetSafe   \n",
       "4  Smead File Folder Tab Letter Size Assorted Col...              Smead   \n",
       "\n",
       "               category  \n",
       "0  Grocery Gourmet Food  \n",
       "1          Pet Supplies  \n",
       "2          Pet Supplies  \n",
       "3          Pet Supplies  \n",
       "4       Office Products  "
      ]
     },
     "execution_count": 205,
     "metadata": {},
     "output_type": "execute_result"
    }
   ],
   "source": [
    "predictions = hf.get_top_n(user_id,full_trainset,user_knn_algo,5)\n",
    "hf.convect_predictions_to_items(predictions,df)"
   ]
  },
  {
   "cell_type": "markdown",
   "metadata": {},
   "source": [
    "Save the trainset and the fitted algo \n",
    "*   KNN algo are highly memory consuming , thus I will not be ables to use them in the application as pre-saved\n",
    "*   Saving the random algo for baseline comparsion of the following algos."
   ]
  },
  {
   "cell_type": "code",
   "execution_count": 37,
   "metadata": {},
   "outputs": [],
   "source": [
    "# Save the trained model to a file\n",
    "user_knn_algo_filename = '../outputs/CF/user_knn_algo.sav'\n",
    "# Save the trained KNN model to the file\n",
    "joblib.dump(user_knn_algo, user_knn_algo_filename, compress=('zlib', 9))  # Use zlib compression with level 9 (maximum compression)\n",
    "\n",
    "item_knn_algo_filename = '../outputs/CF/item_knn_algo.sav'\n",
    "# Save the trained KNN model to the file\n",
    "joblib.dump(item_knn_algo, item_knn_algo_filename, compress=('zlib', 9))  # Use zlib compression with level 9 (maximum compression)\n",
    "\n",
    "with open('../outputs/Random/random_algo.sav', 'wb') as file:\n",
    "    pickle.dump(random_algo, file)\n",
    "with open('../outputs/CF/trainset.sav', 'wb') as file:\n",
    "    pickle.dump(full_trainset, file)"
   ]
  }
 ],
 "metadata": {
  "kernelspec": {
   "display_name": "rs-amazon",
   "language": "python",
   "name": "python3"
  },
  "language_info": {
   "codemirror_mode": {
    "name": "ipython",
    "version": 3
   },
   "file_extension": ".py",
   "mimetype": "text/x-python",
   "name": "python",
   "nbconvert_exporter": "python",
   "pygments_lexer": "ipython3",
   "version": "3.7.1"
  }
 },
 "nbformat": 4,
 "nbformat_minor": 2
}
